{
 "cells": [
  {
   "cell_type": "markdown",
   "metadata": {},
   "source": [
    "## Part 1: Restructuring Data\n",
    "\n",
    "In the first part of this programming exercise, your goal is to recover the original format of the Pima Indian Diabetes dataset. Here, you are given the same data, but in a much less manageable form. You should use the Numpy, Scipy and / or Pandas packages to implement a modular (ie. function-based) pipeline for restructuring the data. The final result should be identical to the downloadable data.\n",
    "\n",
    "You may have to look back at the data in pima-indians-diabetes.csv to figure out the format of the messy version here.\n",
    "\n",
    "Avoid using outside tools like a text editor or a spreadsheet program. Instead, all your transformations should be done programmatically. You might even want to build some defensive coding strategies in if you are feeling really ambitious!"
   ]
  },
  {
   "cell_type": "code",
   "execution_count": 7,
   "metadata": {},
   "outputs": [],
   "source": [
    "import pandas as pd\n",
    "import numpy as np"
   ]
  },
  {
   "cell_type": "markdown",
   "metadata": {},
   "source": [
    "### Load data"
   ]
  },
  {
   "cell_type": "code",
   "execution_count": 2,
   "metadata": {},
   "outputs": [],
   "source": [
    "messy_df = pd.read_csv(\"data/messy-pima-indians-diabetes.csv\")"
   ]
  },
  {
   "cell_type": "code",
   "execution_count": 12,
   "metadata": {},
   "outputs": [
    {
     "name": "stdout",
     "output_type": "stream",
     "text": [
      "There are 7833 rows\n"
     ]
    }
   ],
   "source": [
    "s = messy_df.shape\n",
    "print(\"There are {} rows\".format(s[0]))"
   ]
  },
  {
   "cell_type": "markdown",
   "metadata": {},
   "source": [
    "Each 9 rows consist information about one sample. Therefore, the columns of the table must be the following:\n",
    "* times_pregnant\n",
    "* plasma_glucose_concentration\n",
    "* diastolic_blood_pressure\n",
    "* triceps_thickness\n",
    "* 2_hour_serum_insulin\n",
    "* BMI\n",
    "* diabetes_pedigreen\n",
    "* age\n",
    "* diabetes"
   ]
  },
  {
   "cell_type": "code",
   "execution_count": 45,
   "metadata": {},
   "outputs": [
    {
     "data": {
      "text/html": [
       "<div>\n",
       "<style scoped>\n",
       "    .dataframe tbody tr th:only-of-type {\n",
       "        vertical-align: middle;\n",
       "    }\n",
       "\n",
       "    .dataframe tbody tr th {\n",
       "        vertical-align: top;\n",
       "    }\n",
       "\n",
       "    .dataframe thead th {\n",
       "        text-align: right;\n",
       "    }\n",
       "</style>\n",
       "<table border=\"1\" class=\"dataframe\">\n",
       "  <thead>\n",
       "    <tr style=\"text-align: right;\">\n",
       "      <th></th>\n",
       "      <th>Non-diabetic</th>\n",
       "    </tr>\n",
       "  </thead>\n",
       "  <tbody>\n",
       "    <tr>\n",
       "      <th>0</th>\n",
       "      <td>times_pregnant6.0000</td>\n",
       "    </tr>\n",
       "    <tr>\n",
       "      <th>1</th>\n",
       "      <td>plasma_glucose_concentration148.0000</td>\n",
       "    </tr>\n",
       "    <tr>\n",
       "      <th>2</th>\n",
       "      <td>diastolic_blood_pressure72.0000</td>\n",
       "    </tr>\n",
       "    <tr>\n",
       "      <th>3</th>\n",
       "      <td>triceps_thickness35.0000</td>\n",
       "    </tr>\n",
       "    <tr>\n",
       "      <th>4</th>\n",
       "      <td>2_hour_serum_insulin0.0000</td>\n",
       "    </tr>\n",
       "    <tr>\n",
       "      <th>5</th>\n",
       "      <td>BMI33.6000</td>\n",
       "    </tr>\n",
       "    <tr>\n",
       "      <th>6</th>\n",
       "      <td>diabetes_pedigreen0.6270</td>\n",
       "    </tr>\n",
       "    <tr>\n",
       "      <th>7</th>\n",
       "      <td>age50.0000</td>\n",
       "    </tr>\n",
       "    <tr>\n",
       "      <th>8</th>\n",
       "      <td>diabetes1.0000</td>\n",
       "    </tr>\n",
       "  </tbody>\n",
       "</table>\n",
       "</div>"
      ],
      "text/plain": [
       "                           Non-diabetic\n",
       "0                  times_pregnant6.0000\n",
       "1  plasma_glucose_concentration148.0000\n",
       "2       diastolic_blood_pressure72.0000\n",
       "3              triceps_thickness35.0000\n",
       "4            2_hour_serum_insulin0.0000\n",
       "5                            BMI33.6000\n",
       "6              diabetes_pedigreen0.6270\n",
       "7                            age50.0000\n",
       "8                        diabetes1.0000"
      ]
     },
     "execution_count": 45,
     "metadata": {},
     "output_type": "execute_result"
    }
   ],
   "source": [
    "messy_df.head(9)"
   ]
  },
  {
   "cell_type": "markdown",
   "metadata": {},
   "source": [
    "## Extract the information for each column"
   ]
  },
  {
   "cell_type": "markdown",
   "metadata": {},
   "source": [
    "* Make a list of all the names of the columns\n",
    "* Loop the dataframe and split by name of the column\n",
    "* Add the value to the array into the dictionary's column name "
   ]
  },
  {
   "cell_type": "code",
   "execution_count": 110,
   "metadata": {},
   "outputs": [],
   "source": [
    "columns_dic = {\n",
    "          \"times_pregnant\":[], \n",
    "          \"plasma_glucose_concentration\":[],\n",
    "          \"diastolic_blood_pressure\":[],\n",
    "          \"triceps_thickness\":[],\n",
    "          \"2_hour_serum_insulin\":[],\n",
    "          \"BMI\":[],\n",
    "          \"diabetes_pedigreen\":[],\n",
    "          \"age\":[],\n",
    "          \"diabetes\":[]\n",
    "        }\n",
    "\n",
    "columns_list = [\"times_pregnant\", \n",
    "          \"plasma_glucose_concentration\",\n",
    "          \"diastolic_blood_pressure\",\n",
    "          \"triceps_thickness\",\n",
    "          \"2_hour_serum_insulin\",\n",
    "          \"BMI\",\n",
    "          \"diabetes_pedigreen\",\n",
    "          \"age\",\n",
    "          \"diabetes\"]"
   ]
  },
  {
   "cell_type": "code",
   "execution_count": 111,
   "metadata": {},
   "outputs": [],
   "source": [
    "for i,r in enumerate(messy_df.loc[:,\"Non-diabetic\"]):\n",
    "    for c in columns_list:\n",
    "        if c in r:\n",
    "            v = r.split(c)[1]\n",
    "            columns_dic[c].append(v)"
   ]
  },
  {
   "cell_type": "markdown",
   "metadata": {},
   "source": [
    "There are two columns `times_pregnant` and `diabetes` that have double the values because they repeat."
   ]
  },
  {
   "cell_type": "code",
   "execution_count": 112,
   "metadata": {},
   "outputs": [
    {
     "name": "stdout",
     "output_type": "stream",
     "text": [
      "times_pregnant 1536\n",
      "plasma_glucose_concentration 768\n",
      "diastolic_blood_pressure 768\n",
      "triceps_thickness 768\n",
      "2_hour_serum_insulin 768\n",
      "BMI 768\n",
      "diabetes_pedigreen 768\n",
      "age 768\n",
      "diabetes 1536\n"
     ]
    }
   ],
   "source": [
    "for c in columns_dic:\n",
    "    print(c, len(columns_dic[c]))"
   ]
  },
  {
   "cell_type": "markdown",
   "metadata": {},
   "source": [
    "**Remove the redundant values**\n",
    "* Loop over the columns and delete every other value "
   ]
  },
  {
   "cell_type": "code",
   "execution_count": 113,
   "metadata": {},
   "outputs": [],
   "source": [
    "def remove_redundant_values(arr):\n",
    "    new_list = []\n",
    "    for i, r in enumerate(arr):\n",
    "        if i % 2 != 0:\n",
    "            new_list.append(arr[i])\n",
    "    return new_list        "
   ]
  },
  {
   "cell_type": "code",
   "execution_count": 114,
   "metadata": {},
   "outputs": [],
   "source": [
    "columns_dic[\"times_pregnant\"] = remove_redundant_values(columns_dic[\"times_pregnant\"])\n",
    "columns_dic[\"diabetes\"] = remove_redundant_values(columns_dic[\"diabetes\"])"
   ]
  },
  {
   "cell_type": "markdown",
   "metadata": {},
   "source": [
    "### Make a DataFrame from the Dictionary"
   ]
  },
  {
   "cell_type": "code",
   "execution_count": 115,
   "metadata": {},
   "outputs": [
    {
     "data": {
      "text/html": [
       "<div>\n",
       "<style scoped>\n",
       "    .dataframe tbody tr th:only-of-type {\n",
       "        vertical-align: middle;\n",
       "    }\n",
       "\n",
       "    .dataframe tbody tr th {\n",
       "        vertical-align: top;\n",
       "    }\n",
       "\n",
       "    .dataframe thead th {\n",
       "        text-align: right;\n",
       "    }\n",
       "</style>\n",
       "<table border=\"1\" class=\"dataframe\">\n",
       "  <thead>\n",
       "    <tr style=\"text-align: right;\">\n",
       "      <th></th>\n",
       "      <th>times_pregnant</th>\n",
       "      <th>plasma_glucose_concentration</th>\n",
       "      <th>diastolic_blood_pressure</th>\n",
       "      <th>triceps_thickness</th>\n",
       "      <th>2_hour_serum_insulin</th>\n",
       "      <th>BMI</th>\n",
       "      <th>diabetes_pedigreen</th>\n",
       "      <th>age</th>\n",
       "      <th>diabetes</th>\n",
       "    </tr>\n",
       "  </thead>\n",
       "  <tbody>\n",
       "    <tr>\n",
       "      <th>0</th>\n",
       "      <td>6.0000</td>\n",
       "      <td>148.0000</td>\n",
       "      <td>72.0000</td>\n",
       "      <td>35.0000</td>\n",
       "      <td>0.0000</td>\n",
       "      <td>33.6000</td>\n",
       "      <td>0.6270</td>\n",
       "      <td>50.0000</td>\n",
       "      <td>1.0000</td>\n",
       "    </tr>\n",
       "    <tr>\n",
       "      <th>1</th>\n",
       "      <td>8.0000</td>\n",
       "      <td>183.0000</td>\n",
       "      <td>64.0000</td>\n",
       "      <td>0.0000</td>\n",
       "      <td>0.0000</td>\n",
       "      <td>23.3000</td>\n",
       "      <td>0.6720</td>\n",
       "      <td>32.0000</td>\n",
       "      <td>1.0000</td>\n",
       "    </tr>\n",
       "    <tr>\n",
       "      <th>2</th>\n",
       "      <td>0.0000</td>\n",
       "      <td>137.0000</td>\n",
       "      <td>40.0000</td>\n",
       "      <td>35.0000</td>\n",
       "      <td>168.0000</td>\n",
       "      <td>43.1000</td>\n",
       "      <td>2.2880</td>\n",
       "      <td>33.0000</td>\n",
       "      <td>1.0000</td>\n",
       "    </tr>\n",
       "    <tr>\n",
       "      <th>3</th>\n",
       "      <td>3.0000</td>\n",
       "      <td>78.0000</td>\n",
       "      <td>50.0000</td>\n",
       "      <td>32.0000</td>\n",
       "      <td>88.0000</td>\n",
       "      <td>31.0000</td>\n",
       "      <td>0.2480</td>\n",
       "      <td>26.0000</td>\n",
       "      <td>1.0000</td>\n",
       "    </tr>\n",
       "    <tr>\n",
       "      <th>4</th>\n",
       "      <td>2.0000</td>\n",
       "      <td>197.0000</td>\n",
       "      <td>70.0000</td>\n",
       "      <td>45.0000</td>\n",
       "      <td>543.0000</td>\n",
       "      <td>30.5000</td>\n",
       "      <td>0.1580</td>\n",
       "      <td>53.0000</td>\n",
       "      <td>1.0000</td>\n",
       "    </tr>\n",
       "  </tbody>\n",
       "</table>\n",
       "</div>"
      ],
      "text/plain": [
       "  times_pregnant plasma_glucose_concentration diastolic_blood_pressure  \\\n",
       "0         6.0000                     148.0000                  72.0000   \n",
       "1         8.0000                     183.0000                  64.0000   \n",
       "2         0.0000                     137.0000                  40.0000   \n",
       "3         3.0000                      78.0000                  50.0000   \n",
       "4         2.0000                     197.0000                  70.0000   \n",
       "\n",
       "  triceps_thickness 2_hour_serum_insulin      BMI diabetes_pedigreen      age  \\\n",
       "0           35.0000               0.0000  33.6000             0.6270  50.0000   \n",
       "1            0.0000               0.0000  23.3000             0.6720  32.0000   \n",
       "2           35.0000             168.0000  43.1000             2.2880  33.0000   \n",
       "3           32.0000              88.0000  31.0000             0.2480  26.0000   \n",
       "4           45.0000             543.0000  30.5000             0.1580  53.0000   \n",
       "\n",
       "  diabetes  \n",
       "0   1.0000  \n",
       "1   1.0000  \n",
       "2   1.0000  \n",
       "3   1.0000  \n",
       "4   1.0000  "
      ]
     },
     "execution_count": 115,
     "metadata": {},
     "output_type": "execute_result"
    }
   ],
   "source": [
    "df = pd.DataFrame(columns_dic)\n",
    "df.head()"
   ]
  },
  {
   "cell_type": "code",
   "execution_count": null,
   "metadata": {},
   "outputs": [],
   "source": []
  }
 ],
 "metadata": {
  "kernelspec": {
   "display_name": "Python 3",
   "language": "python",
   "name": "python3"
  },
  "language_info": {
   "codemirror_mode": {
    "name": "ipython",
    "version": 3
   },
   "file_extension": ".py",
   "mimetype": "text/x-python",
   "name": "python",
   "nbconvert_exporter": "python",
   "pygments_lexer": "ipython3",
   "version": "3.8.5"
  }
 },
 "nbformat": 4,
 "nbformat_minor": 4
}
