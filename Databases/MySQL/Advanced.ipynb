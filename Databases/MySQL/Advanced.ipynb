{
 "cells": [
  {
   "cell_type": "markdown",
   "metadata": {},
   "source": [
    "# Exploring Chinook Database"
   ]
  },
  {
   "cell_type": "markdown",
   "metadata": {},
   "source": [
    "## Schema Diagram for the Chinook database "
   ]
  },
  {
   "cell_type": "code",
   "execution_count": 47,
   "metadata": {},
   "outputs": [
    {
     "data": {
      "text/html": [
       "<img src=\"../../Images/chinook-schema.svg\"/>"
      ],
      "text/plain": [
       "<IPython.core.display.Image object>"
      ]
     },
     "execution_count": 47,
     "metadata": {},
     "output_type": "execute_result"
    }
   ],
   "source": [
    "from IPython.display import Image\n",
    "from IPython.core.display import HTML \n",
    "Image(url= \"../../Images/chinook-schema.svg\")"
   ]
  },
  {
   "cell_type": "code",
   "execution_count": 33,
   "metadata": {},
   "outputs": [],
   "source": [
    "import mysql.connector"
   ]
  },
  {
   "cell_type": "code",
   "execution_count": 34,
   "metadata": {},
   "outputs": [],
   "source": [
    "config = {\n",
    "    'user':'root',\n",
    "    'password':'password',\n",
    "    'host':'localhost',\n",
    "    'database':'',\n",
    "    'port':'3306',\n",
    "}"
   ]
  },
  {
   "cell_type": "code",
   "execution_count": 35,
   "metadata": {},
   "outputs": [],
   "source": [
    "def connect(config):\n",
    "    return mysql.connector.connect(**config)"
   ]
  },
  {
   "cell_type": "code",
   "execution_count": 36,
   "metadata": {},
   "outputs": [],
   "source": [
    "cnx = connect(config)\n",
    "cursor = cnx.cursor()"
   ]
  },
  {
   "cell_type": "code",
   "execution_count": 37,
   "metadata": {},
   "outputs": [],
   "source": [
    "q = \"USE Chinook\"\n",
    "cursor.execute(q)"
   ]
  },
  {
   "cell_type": "code",
   "execution_count": 19,
   "metadata": {},
   "outputs": [
    {
     "data": {
      "text/plain": [
       "[('Album',),\n",
       " ('Artist',),\n",
       " ('Customer',),\n",
       " ('Employee',),\n",
       " ('Genre',),\n",
       " ('Invoice',),\n",
       " ('InvoiceLine',),\n",
       " ('MediaType',),\n",
       " ('Playlist',),\n",
       " ('PlaylistTrack',),\n",
       " ('Track',)]"
      ]
     },
     "execution_count": 19,
     "metadata": {},
     "output_type": "execute_result"
    }
   ],
   "source": [
    "q = \"SHOW tables\"\n",
    "cursor.execute(q)\n",
    "cursor.fetchall()"
   ]
  },
  {
   "cell_type": "code",
   "execution_count": 24,
   "metadata": {},
   "outputs": [
    {
     "data": {
      "text/plain": [
       "[('InvoiceLineId', 'int', 'NO', 'PRI', None, ''),\n",
       " ('InvoiceId', 'int', 'NO', 'MUL', None, ''),\n",
       " ('TrackId', 'int', 'NO', 'MUL', None, ''),\n",
       " ('UnitPrice', 'decimal(10,2)', 'NO', '', None, ''),\n",
       " ('Quantity', 'int', 'NO', '', None, '')]"
      ]
     },
     "execution_count": 24,
     "metadata": {},
     "output_type": "execute_result"
    }
   ],
   "source": [
    "q = \"DESCRIBE InvoiceLine\"\n",
    "cursor.execute(q)\n",
    "cursor.fetchall()"
   ]
  },
  {
   "cell_type": "markdown",
   "metadata": {},
   "source": [
    "#### Write a query that gathers data about the invoice with an invoice_id of 4. Include the following columns in order:\n",
    "* The id of the track, track_id.\n",
    "* The name of the track, track_name.\n",
    "* The name of media type of the track, track_type.\n",
    "* The price that the customer paid for the track, unit_price.\n",
    "* The quantity of the track that was purchased, quantity."
   ]
  },
  {
   "cell_type": "code",
   "execution_count": 27,
   "metadata": {},
   "outputs": [
    {
     "name": "stdout",
     "output_type": "stream",
     "text": [
      "(8, 'Inject The Venom', 'MPEG audio file', Decimal('0.99'), 1)\n"
     ]
    }
   ],
   "source": [
    "q = \"\"\"\n",
    "SELECT \n",
    "t.TrackId track_id,\n",
    "t.Name track_name,\n",
    "mt.Name track_type,\n",
    "il.UnitPrice unit_price,\n",
    "il.Quantity\n",
    "FROM InvoiceLine il\n",
    "INNER JOIN Track t ON t.TrackId = il.TrackId\n",
    "INNER JOIN MediaType mt ON mt.MediaTypeId = t.MediaTypeId\n",
    "WHERE il.InvoiceLineId = 4;\n",
    "\"\"\"\n",
    "cursor.execute(q)\n",
    "r = cursor.fetchall()\n",
    "\n",
    "for i in r:\n",
    "    print(i)"
   ]
  },
  {
   "cell_type": "markdown",
   "metadata": {},
   "source": [
    "Find the artist for each track by joining albuls and artist table"
   ]
  },
  {
   "cell_type": "code",
   "execution_count": 39,
   "metadata": {},
   "outputs": [
    {
     "name": "stdout",
     "output_type": "stream",
     "text": [
      "(42, 'Right Through You', 'Alanis Morissette', 'MPEG audio file', Decimal('0.99'), 1)\n",
      "(48, 'Not The Doctor', 'Alanis Morissette', 'MPEG audio file', Decimal('0.99'), 1)\n",
      "(54, 'Bleed The Freak', 'Alice In Chains', 'MPEG audio file', Decimal('0.99'), 1)\n",
      "(60, 'Confusion', 'Alice In Chains', 'MPEG audio file', Decimal('0.99'), 1)\n",
      "(66, 'Por Causa De Você', 'Antônio Carlos Jobim', 'MPEG audio file', Decimal('0.99'), 1)\n",
      "(72, 'Angela', 'Antônio Carlos Jobim', 'MPEG audio file', Decimal('0.99'), 1)\n",
      "(78, 'Master Of Puppets', 'Apocalyptica', 'MPEG audio file', Decimal('0.99'), 1)\n",
      "(84, 'Welcome Home (Sanitarium)', 'Apocalyptica', 'MPEG audio file', Decimal('0.99'), 1)\n",
      "(90, 'Set It Off', 'Audioslave', 'MPEG audio file', Decimal('0.99'), 1)\n"
     ]
    }
   ],
   "source": [
    "q = \"\"\" \n",
    "SELECT\n",
    "    t.TrackId track_id,\n",
    "    t.Name track_name,\n",
    "    ar.Name artist_name,\n",
    "    mt.Name track_type,\n",
    "    il.UnitPrice unit_price,\n",
    "    il.Quantity\n",
    "FROM InvoiceLine il\n",
    "INNER JOIN Track t ON t.TrackId = il.TrackId\n",
    "INNER JOIN MediaType mt ON mt.MediaTypeId = t.MediaTypeId\n",
    "INNER JOIN Album al ON al.AlbumId = t.AlbumId\n",
    "INNER JOIN Artist ar ON ar.ArtistId = al.ArtistId\n",
    "WHERE il.InvoiceId = 4;\n",
    "\"\"\"\n",
    "cursor.execute(q)\n",
    "r = cursor.fetchall()\n",
    "\n",
    "for i in r:\n",
    "    print(i)"
   ]
  },
  {
   "cell_type": "code",
   "execution_count": null,
   "metadata": {},
   "outputs": [],
   "source": []
  }
 ],
 "metadata": {
  "kernelspec": {
   "display_name": "Python 3",
   "language": "python",
   "name": "python3"
  },
  "language_info": {
   "codemirror_mode": {
    "name": "ipython",
    "version": 3
   },
   "file_extension": ".py",
   "mimetype": "text/x-python",
   "name": "python",
   "nbconvert_exporter": "python",
   "pygments_lexer": "ipython3",
   "version": "3.8.5"
  }
 },
 "nbformat": 4,
 "nbformat_minor": 4
}
