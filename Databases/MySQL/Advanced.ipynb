{
 "cells": [
  {
   "cell_type": "code",
   "execution_count": 9,
   "metadata": {},
   "outputs": [],
   "source": [
    "import mysql.connector"
   ]
  },
  {
   "cell_type": "code",
   "execution_count": 10,
   "metadata": {},
   "outputs": [],
   "source": [
    "config = {\n",
    "    'user':'root',\n",
    "    'password':'password',\n",
    "    'host':'localhost',\n",
    "    'database':'',\n",
    "    'port':'3306',\n",
    "}"
   ]
  },
  {
   "cell_type": "code",
   "execution_count": 11,
   "metadata": {},
   "outputs": [],
   "source": [
    "def connect(config):\n",
    "    return mysql.connector.connect(**config)"
   ]
  },
  {
   "cell_type": "code",
   "execution_count": 12,
   "metadata": {},
   "outputs": [],
   "source": [
    "cnx = connect(config)\n",
    "cursor = cnx.cursor()"
   ]
  },
  {
   "cell_type": "code",
   "execution_count": 15,
   "metadata": {},
   "outputs": [],
   "source": [
    "q = \"USE Chinook\"\n",
    "cursor.execute(q)"
   ]
  },
  {
   "cell_type": "code",
   "execution_count": 19,
   "metadata": {},
   "outputs": [
    {
     "data": {
      "text/plain": [
       "[('Album',),\n",
       " ('Artist',),\n",
       " ('Customer',),\n",
       " ('Employee',),\n",
       " ('Genre',),\n",
       " ('Invoice',),\n",
       " ('InvoiceLine',),\n",
       " ('MediaType',),\n",
       " ('Playlist',),\n",
       " ('PlaylistTrack',),\n",
       " ('Track',)]"
      ]
     },
     "execution_count": 19,
     "metadata": {},
     "output_type": "execute_result"
    }
   ],
   "source": [
    "q = \"SHOW tables\"\n",
    "cursor.execute(q)\n",
    "cursor.fetchall()"
   ]
  },
  {
   "cell_type": "code",
   "execution_count": 24,
   "metadata": {},
   "outputs": [
    {
     "data": {
      "text/plain": [
       "[('InvoiceLineId', 'int', 'NO', 'PRI', None, ''),\n",
       " ('InvoiceId', 'int', 'NO', 'MUL', None, ''),\n",
       " ('TrackId', 'int', 'NO', 'MUL', None, ''),\n",
       " ('UnitPrice', 'decimal(10,2)', 'NO', '', None, ''),\n",
       " ('Quantity', 'int', 'NO', '', None, '')]"
      ]
     },
     "execution_count": 24,
     "metadata": {},
     "output_type": "execute_result"
    }
   ],
   "source": [
    "q = \"DESCRIBE InvoiceLine\"\n",
    "cursor.execute(q)\n",
    "cursor.fetchall()"
   ]
  },
  {
   "cell_type": "markdown",
   "metadata": {},
   "source": [
    "#### Write a query that gathers data about the invoice with an invoice_id of 4. Include the following columns in order:\n",
    "* The id of the track, track_id.\n",
    "* The name of the track, track_name.\n",
    "* The name of media type of the track, track_type.\n",
    "* The price that the customer paid for the track, unit_price.\n",
    "* The quantity of the track that was purchased, quantity."
   ]
  },
  {
   "cell_type": "code",
   "execution_count": 25,
   "metadata": {},
   "outputs": [
    {
     "name": "stdout",
     "output_type": "stream",
     "text": [
      "(3, 2, 6, Decimal('0.99'), 1, 6, 'Put The Finger On You', 1, 1, 1, 'Angus Young, Malcolm Young, Brian Johnson', 205662, 6713451, Decimal('0.99'), 1, 'MPEG audio file')\n"
     ]
    }
   ],
   "source": [
    "q = \"\"\"\n",
    "SELECT * FROM InvoiceLine il\n",
    "INNER JOIN Track t ON t.TrackId = il.TrackId\n",
    "INNER JOIN MediaType mt ON mt.MediaTypeId = t.MediaTypeId\n",
    "WHERE il.InvoiceLineId = 3;\n",
    "\"\"\"\n",
    "cursor.execute(q)\n",
    "r = cursor.fetchall()\n",
    "\n",
    "for i in r:\n",
    "    print(i)"
   ]
  },
  {
   "cell_type": "code",
   "execution_count": null,
   "metadata": {},
   "outputs": [],
   "source": []
  }
 ],
 "metadata": {
  "kernelspec": {
   "display_name": "Python 3",
   "language": "python",
   "name": "python3"
  },
  "language_info": {
   "codemirror_mode": {
    "name": "ipython",
    "version": 3
   },
   "file_extension": ".py",
   "mimetype": "text/x-python",
   "name": "python",
   "nbconvert_exporter": "python",
   "pygments_lexer": "ipython3",
   "version": "3.8.5"
  }
 },
 "nbformat": 4,
 "nbformat_minor": 4
}
