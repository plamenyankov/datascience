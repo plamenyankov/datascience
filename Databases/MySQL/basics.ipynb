{
 "cells": [
  {
   "cell_type": "code",
   "execution_count": 1,
   "metadata": {},
   "outputs": [],
   "source": [
    "import mysql.connector"
   ]
  },
  {
   "cell_type": "code",
   "execution_count": 2,
   "metadata": {},
   "outputs": [],
   "source": [
    "config = {\n",
    "    'user':'root',\n",
    "    'password':'password',\n",
    "    'host':'localhost',\n",
    "    'database':'smarthome',\n",
    "    'port':'3306',\n",
    "}"
   ]
  },
  {
   "cell_type": "code",
   "execution_count": 10,
   "metadata": {},
   "outputs": [],
   "source": [
    "def connect(config):\n",
    "    return mysql.connector.connect(**config)"
   ]
  },
  {
   "cell_type": "code",
   "execution_count": 19,
   "metadata": {},
   "outputs": [],
   "source": [
    "cnx = connect(config)\n",
    "cursor = cnx.cursor()"
   ]
  },
  {
   "cell_type": "code",
   "execution_count": 165,
   "metadata": {},
   "outputs": [],
   "source": [
    "def execute(query):\n",
    "    if cnx:\n",
    "        cursor = cnx.cursor()\n",
    "        cursor.execute(query)\n",
    "        for i in cursor:\n",
    "            print(i)\n",
    "    else:\n",
    "        print('No connection')"
   ]
  },
  {
   "cell_type": "code",
   "execution_count": 12,
   "metadata": {},
   "outputs": [
    {
     "name": "stdout",
     "output_type": "stream",
     "text": [
      "[('active_device',), ('ad_property_value',), ('device_properties',), ('devices',)]\n"
     ]
    }
   ],
   "source": [
    "query = \"Show tables\"\n",
    "cursor.execute(query)\n",
    "rows = cursor.fetchall()\n",
    "print(rows)"
   ]
  },
  {
   "cell_type": "code",
   "execution_count": 13,
   "metadata": {},
   "outputs": [
    {
     "data": {
      "text/plain": [
       "[(1, 'TV', '/images/icons/tv-monitor.png'),\n",
       " (2, 'curtains', '/images/icons/curtains.png'),\n",
       " (3, 'dish washer', '/images/icons/dish-washer.png'),\n",
       " (4, 'fridge', '/images/icons/fridge.png'),\n",
       " (5, 'lock', '/images/icons/lock.png'),\n",
       " (6, 'plug', '/images/icons/plug.png'),\n",
       " (7, 'security camera', '/images/icons/security-camera.png'),\n",
       " (8, 'speaker', '/images/icons/speaker.png'),\n",
       " (9, 'washing machine', '/images/icons/washing-machine.png'),\n",
       " (10, 'air conditioner', '/images/icons/air-conditioner.png'),\n",
       " (11, 'air purifier', '/images/icons/air-purifier.png'),\n",
       " (12, 'bell camera', '/images/icons/bell.png'),\n",
       " (13, 'vacuum cleaner', '/images/icons/cleaner.png'),\n",
       " (14, 'coffee machine', '/images/icons/coffee-machine.png'),\n",
       " (15, 'fan', '/images/icons/fan.png'),\n",
       " (16, 'garage door', '/images/icons/garage.png'),\n",
       " (17, 'lights', '/images/icons/idea.png'),\n",
       " (18, 'mirror', '/images/icons/mirror.png'),\n",
       " (19, 'desk light', '/images/icons/smart-light.png'),\n",
       " (20, 'media', '/images/icons/youtube.png')]"
      ]
     },
     "execution_count": 13,
     "metadata": {},
     "output_type": "execute_result"
    }
   ],
   "source": [
    "query = \"SELECT * FROM devices\"\n",
    "cursor.execute(query)\n",
    "dev = cursor.fetchall()\n",
    "dev"
   ]
  },
  {
   "cell_type": "code",
   "execution_count": 14,
   "metadata": {},
   "outputs": [
    {
     "data": {
      "text/plain": [
       "[('information_schema',),\n",
       " ('mysecondBookshop',),\n",
       " ('mysql',),\n",
       " ('performance_schema',),\n",
       " ('smarthome',),\n",
       " ('sys',)]"
      ]
     },
     "execution_count": 14,
     "metadata": {},
     "output_type": "execute_result"
    }
   ],
   "source": [
    "q = \"SHOW databases\"\n",
    "cursor.execute(q)\n",
    "dbs = cursor.fetchall()\n",
    "dbs"
   ]
  },
  {
   "cell_type": "markdown",
   "metadata": {},
   "source": [
    "Create new database `mysecondBookshop`"
   ]
  },
  {
   "cell_type": "code",
   "execution_count": null,
   "metadata": {},
   "outputs": [],
   "source": [
    "q = \"CREATE DATABASE mysecondBookshop\"\n",
    "cursor.execute(q)\n",
    "cursor.commit()"
   ]
  },
  {
   "cell_type": "markdown",
   "metadata": {},
   "source": [
    "Use `mysecondBookshop` "
   ]
  },
  {
   "cell_type": "code",
   "execution_count": 20,
   "metadata": {},
   "outputs": [],
   "source": [
    "q = \"USE mysecondBookshop\"\n",
    "cursor.execute(q)"
   ]
  },
  {
   "cell_type": "markdown",
   "metadata": {},
   "source": [
    "Create a table `Publisher`"
   ]
  },
  {
   "cell_type": "code",
   "execution_count": null,
   "metadata": {},
   "outputs": [],
   "source": [
    "q = \"\"\"CREATE TABLE Publisher (id INT AUTO_INCREMENT, name VARCHAR(50), \n",
    "address VARCHAR(100) , PRIMARY KEY(id))\"\"\"\n",
    "cursor.execute(q)\n",
    "cursor.commit()"
   ]
  },
  {
   "cell_type": "markdown",
   "metadata": {},
   "source": [
    "Create table `Book` with **FOREIGN KEY** publisher_id"
   ]
  },
  {
   "cell_type": "code",
   "execution_count": null,
   "metadata": {},
   "outputs": [],
   "source": [
    "q = \"\"\"\n",
    "CREATE TABLE Book ( id INT AUTO_INCREMENT, publisher_id INT, name VARCHAR(50),\n",
    "price DECIMAL(5, 2) unsigned, PRIMARY KEY (id), FOREIGN KEY(publisher_id)\n",
    "REFERENCES Publisher(id))\n",
    "\"\"\"\n",
    "cursor.execute(q)\n",
    "cursor.commit()"
   ]
  },
  {
   "cell_type": "code",
   "execution_count": 16,
   "metadata": {},
   "outputs": [
    {
     "data": {
      "text/plain": [
       "[('Book',), ('Publisher',)]"
      ]
     },
     "execution_count": 16,
     "metadata": {},
     "output_type": "execute_result"
    }
   ],
   "source": [
    "query = \"Show tables\"\n",
    "cursor.execute(query)\n",
    "tables = cursor.fetchall()\n",
    "tables"
   ]
  },
  {
   "cell_type": "code",
   "execution_count": 21,
   "metadata": {},
   "outputs": [
    {
     "data": {
      "text/plain": [
       "[('id', 'int', 'NO', 'PRI', None, 'auto_increment'),\n",
       " ('publisher_id', 'int', 'YES', 'MUL', None, ''),\n",
       " ('name', 'varchar(50)', 'YES', '', None, ''),\n",
       " ('price', 'decimal(5,2) unsigned', 'YES', '', None, '')]"
      ]
     },
     "execution_count": 21,
     "metadata": {},
     "output_type": "execute_result"
    }
   ],
   "source": [
    "query = \"DESCRIBE Book\"\n",
    "cursor.execute(query)\n",
    "cursor.fetchall()"
   ]
  },
  {
   "cell_type": "markdown",
   "metadata": {},
   "source": [
    "Create new rows"
   ]
  },
  {
   "cell_type": "code",
   "execution_count": 22,
   "metadata": {},
   "outputs": [
    {
     "name": "stdout",
     "output_type": "stream",
     "text": [
      "6\n"
     ]
    }
   ],
   "source": [
    "q = (\"INSERT INTO Publisher (name, address) VALUES (%s,%s)\")\n",
    "data = ('Penguin', 'Somewhere3')\n",
    "cursor.execute(q,data)\n",
    "lastinstertedID = cursor.lastrowid\n",
    "print(lastinstertedID)\n",
    "cnx.commit()"
   ]
  },
  {
   "cell_type": "code",
   "execution_count": 23,
   "metadata": {},
   "outputs": [
    {
     "name": "stdout",
     "output_type": "stream",
     "text": [
      "[(4, 'McGrawHill', 'Somewhere1'), (5, 'McGrawHill', 'Somewhere1'), (6, 'Penguin', 'Somewhere3')]\n"
     ]
    }
   ],
   "source": [
    "q = \"SELECT * FROM Publisher\"\n",
    "cursor.execute(q)\n",
    "c = cursor.fetchall()\n",
    "print(c)"
   ]
  },
  {
   "cell_type": "code",
   "execution_count": null,
   "metadata": {},
   "outputs": [],
   "source": []
  },
  {
   "cell_type": "code",
   "execution_count": null,
   "metadata": {},
   "outputs": [],
   "source": []
  },
  {
   "cell_type": "code",
   "execution_count": 24,
   "metadata": {},
   "outputs": [],
   "source": [
    "cnx.close()"
   ]
  }
 ],
 "metadata": {
  "kernelspec": {
   "display_name": "Python 3",
   "language": "python",
   "name": "python3"
  },
  "language_info": {
   "codemirror_mode": {
    "name": "ipython",
    "version": 3
   },
   "file_extension": ".py",
   "mimetype": "text/x-python",
   "name": "python",
   "nbconvert_exporter": "python",
   "pygments_lexer": "ipython3",
   "version": "3.8.5"
  }
 },
 "nbformat": 4,
 "nbformat_minor": 4
}
