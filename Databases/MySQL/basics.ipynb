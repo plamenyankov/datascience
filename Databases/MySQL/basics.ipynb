{
 "cells": [
  {
   "cell_type": "code",
   "execution_count": 57,
   "metadata": {},
   "outputs": [],
   "source": [
    "import mysql.connector"
   ]
  },
  {
   "cell_type": "code",
   "execution_count": 58,
   "metadata": {},
   "outputs": [],
   "source": [
    "config = {\n",
    "    'user':'root',\n",
    "    'password':'password',\n",
    "    'host':'localhost',\n",
    "    'database':'smarthome',\n",
    "    'port':'3306',\n",
    "}"
   ]
  },
  {
   "cell_type": "code",
   "execution_count": 59,
   "metadata": {},
   "outputs": [],
   "source": [
    "def connect(config):\n",
    "    return mysql.connector.connect(**config)"
   ]
  },
  {
   "cell_type": "code",
   "execution_count": 60,
   "metadata": {},
   "outputs": [],
   "source": [
    "cnx = connect(config)"
   ]
  },
  {
   "cell_type": "code",
   "execution_count": null,
   "metadata": {},
   "outputs": [],
   "source": []
  },
  {
   "cell_type": "code",
   "execution_count": 61,
   "metadata": {},
   "outputs": [],
   "source": [
    "def execute(query):\n",
    "    if cnx:\n",
    "        cursor = cnx.cursor()\n",
    "        cursor.execute(query)\n",
    "        for i in cursor:\n",
    "            print(i)\n",
    "    else:\n",
    "        print('No connection')"
   ]
  },
  {
   "cell_type": "code",
   "execution_count": 62,
   "metadata": {},
   "outputs": [
    {
     "name": "stdout",
     "output_type": "stream",
     "text": [
      "('active_device',)\n",
      "('ad_property_value',)\n",
      "('device_properties',)\n",
      "('devices',)\n"
     ]
    }
   ],
   "source": [
    "query = \"Show tables\"\n",
    "execute(query)"
   ]
  },
  {
   "cell_type": "code",
   "execution_count": 63,
   "metadata": {},
   "outputs": [
    {
     "name": "stdout",
     "output_type": "stream",
     "text": [
      "(1, 'TV', '/images/icons/tv-monitor.png')\n",
      "(2, 'curtains', '/images/icons/curtains.png')\n",
      "(3, 'dish washer', '/images/icons/dish-washer.png')\n",
      "(4, 'fridge', '/images/icons/fridge.png')\n",
      "(5, 'lock', '/images/icons/lock.png')\n",
      "(6, 'plug', '/images/icons/plug.png')\n",
      "(7, 'security camera', '/images/icons/security-camera.png')\n",
      "(8, 'speaker', '/images/icons/speaker.png')\n",
      "(9, 'washing machine', '/images/icons/washing-machine.png')\n",
      "(10, 'air conditioner', '/images/icons/air-conditioner.png')\n",
      "(11, 'air purifier', '/images/icons/air-purifier.png')\n",
      "(12, 'bell camera', '/images/icons/bell.png')\n",
      "(13, 'vacuum cleaner', '/images/icons/cleaner.png')\n",
      "(14, 'coffee machine', '/images/icons/coffee-machine.png')\n",
      "(15, 'fan', '/images/icons/fan.png')\n",
      "(16, 'garage door', '/images/icons/garage.png')\n",
      "(17, 'lights', '/images/icons/idea.png')\n",
      "(18, 'mirror', '/images/icons/mirror.png')\n",
      "(19, 'desk light', '/images/icons/smart-light.png')\n",
      "(20, 'media', '/images/icons/youtube.png')\n"
     ]
    }
   ],
   "source": [
    "query = \"SELECT * FROM devices\"\n",
    "execute(query)"
   ]
  },
  {
   "cell_type": "code",
   "execution_count": null,
   "metadata": {},
   "outputs": [],
   "source": []
  }
 ],
 "metadata": {
  "kernelspec": {
   "display_name": "Python 3",
   "language": "python",
   "name": "python3"
  },
  "language_info": {
   "codemirror_mode": {
    "name": "ipython",
    "version": 3
   },
   "file_extension": ".py",
   "mimetype": "text/x-python",
   "name": "python",
   "nbconvert_exporter": "python",
   "pygments_lexer": "ipython3",
   "version": "3.8.5"
  }
 },
 "nbformat": 4,
 "nbformat_minor": 4
}
